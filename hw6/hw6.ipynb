{
 "cells": [
  {
   "cell_type": "markdown",
   "metadata": {},
   "source": [
    "(HL, Problem 8.1-4.) The Versatech Corporation has decided to produce three new\n",
    "products. Five branch plants now have excess product capacity. The unit manufacturing\n",
    "cost of the first product would be $41, $39, $42, $38, and $39 in Plants 1, 2, 3, 4, and 5,\n",
    "respectively. The unit manufacturing cost of the second product would be $55, $51, $56,\n",
    "$52, and $53 in Plants 1, 2, 3, 4, and 5, respectively. The unit manufacturing cost of\n",
    "the third product would be $48, $45, and $50 in Plants 1, 2, and 3, respectively, whereas\n",
    "Plants 4 and 5 do not have the capability for producing this product. Sales forecasts\n",
    "indicate that 700, 1 000, and 900 units of products 1, 2, and 3, respectively, should be\n",
    "produced per day. Plants 1, 2, 3, 4, and 5 have the capacity to produce 400, 600, 400, 600,\n",
    "and 1 000 units daily, respectively, regardless of the product or combination of products\n",
    "involved. Assume that any plant having the capability and capacity to produce them can\n",
    "produce any combination of the products in any quantity. Management wishes to know\n",
    "how to allocate the new products to the plants to minimize total manufacturing co\n"
   ]
  },
  {
   "cell_type": "markdown",
   "metadata": {},
   "source": [
    "Problem 2:"
   ]
  },
  {
   "cell_type": "code",
   "execution_count": 1,
   "metadata": {
    "tags": []
   },
   "outputs": [
    {
     "output_type": "stream",
     "name": "stdout",
     "text": "{(1, 'P1'): 0.0, (1, 'P2'): 0.0, (1, 'P3'): 0.0, (1, 'P4'): 0.0, (1, 'P5'): 700.0, (2, 'P1'): 0.0, (2, 'P2'): 400.0, (2, 'P3'): 0.0, (2, 'P4'): 600.0, (2, 'P5'): 0.0, (3, 'P1'): 400.0, (3, 'P2'): 200.0, (3, 'P3'): 300.0, (3, 'P4'): 0.0, (3, 'P5'): 0.0}\ntotal cost of transportation: 122100.0\n"
    }
   ],
   "source": [
    "#following Petrat\n",
    "from pyomo.environ import *\n",
    "from pyomo.opt import *\n",
    "opt = solvers.SolverFactory(\"glpk\")\n",
    "\n",
    "model = ConcreteModel()\n",
    "BIGNUM = 2**40\n",
    "\n",
    "A = [1,2,3]# destinations\n",
    "R = ['P1', 'P2', 'P3' , 'P4', 'P5'] # distribution centers\n",
    "w={ (1, 'P1'): 41, (1, 'P2'): 39, (1, 'P3'): 42, (1, 'P4'): 38, (1, 'P5'): 39,\n",
    "    (2, 'P1'): 55,(2, 'P2'): 51, (2, 'P3'): 56, (2, 'P4'): 52,(2, 'P5'): 53 ,\n",
    "    (3, 'P1'): 48, (3, 'P2'): 45, (3, 'P3'): 50, (3, 'P4'): BIGNUM, (3, 'P5'): BIGNUM,\n",
    "}# constraint matrix\n",
    "d = { 1:700, 2: 1000, 3: 900} #demand constraints\n",
    "\n",
    "s = {'P1':400,'P2':600,'P3':400,'P4':600, 'P5':1000} # production constraints\n",
    "\n",
    "def supply_rule(model, j):\n",
    "    return sum(model.x[i,j] for i in A) <= s[j]\n",
    "\n",
    "def demand_rule(model, i):\n",
    "    return sum(model.x[i,j] for j in R) == d[i]\n",
    "\n",
    "\n",
    "model.x = Var(A,R, within=NonNegativeReals)\n",
    "\n",
    "model.z = Objective(expr=sum( (    w[i,j] * model.x[i,j] ) for j in R for i in A), sense=minimize)\n",
    "#set constraints\n",
    "model.supply = Constraint(R, rule=supply_rule)\n",
    "model.demand=Constraint(A, rule=demand_rule)\n",
    "\n",
    "\n",
    "\n",
    "model.dual = Suffix(direction=Suffix.IMPORT)\n",
    "results = opt.solve(model)\n",
    "\n",
    "print(model.x.get_values())\n",
    "print(f\"total cost of transportation: {model.z.expr()}\")\n"
   ]
  },
  {
   "cell_type": "markdown",
   "metadata": {},
   "source": [
    "(Based on HL, Problem 8.3-2.) Four cargo ships will be used for shipping goods from\n",
    "one port to four other ports (labeled 1, 2, 3, 4). Any ship can be used for making any\n",
    "one of these four trips. However, because of differences in the ships and cargoes, the\n",
    "total cost of loading, transporting, and unloading the goods for the different ship-port\n",
    "combinations varies considerably, as shown in the following table\n",
    "\n",
    "The objective is to assign the four ships to four different ports in such a way as to minimize\n",
    "the total cost for all four shipments.\n"
   ]
  },
  {
   "cell_type": "code",
   "execution_count": 2,
   "metadata": {
    "tags": []
   },
   "outputs": [
    {
     "output_type": "stream",
     "name": "stdout",
     "text": "{(1, 'S1'): 0.0, (1, 'S2'): 0.0, (1, 'S3'): 0.0, (1, 'S4'): 1.0, (2, 'S1'): 0.0, (2, 'S2'): 0.0, (2, 'S3'): 1.0, (2, 'S4'): 0.0, (3, 'S1'): 1.0, (3, 'S2'): 0.0, (3, 'S3'): 0.0, (3, 'S4'): 0.0, (4, 'S1'): 0.0, (4, 'S2'): 1.0, (4, 'S3'): 0.0, (4, 'S4'): 0.0}\ntotal cost of transportation: 2100.0\n"
    }
   ],
   "source": [
    "\n",
    "model = ConcreteModel()\n",
    "BIGNUM = 2**40\n",
    "\n",
    "PORTS = [1,2,3,4]# destinations\n",
    "SHIPS= ['S1', 'S2', 'S3', 'S4']\n",
    "\n",
    "w={ (1, 'S1'): 500, (1, 'S2'): 600, (1, 'S3'): 700, (1, 'S4'): 500, \n",
    "    (2, 'S1'): 400, (2, 'S2'): 600, (2, 'S3'): 500, (2, 'S4'): 400,\n",
    "    (3, 'S1'): 600, (3, 'S2'): 700, (3, 'S3'): 700, (3, 'S4'): 600, \n",
    "    (4, 'S1'): 700, (4, 'S2'): 500, (4, 'S3'): 600, (4, 'S4'): 600, \n",
    "}# constraint matrix\n",
    "# d = { 1:700, 2: 1000, 3: 900} #demand constraints\n",
    "\n",
    "# s = {'P1':400,'P2':600,'P3':400,'P4':600, 'P5':1000} # demand constraints\n",
    "\n",
    "# def supply_rule(model, j):\n",
    "#     return sum(model.x[i,j] for i in A) <= s[j]\n",
    "\n",
    "# def demand_rule(model, i):\n",
    "#     return sum(model.x[i,j] for j in R) == d[i]\n",
    "\n",
    "\n",
    "model.x = Var(PORTS,SHIPS, within=Boolean)\n",
    "\n",
    "model.z = Objective(expr=sum( (    w[i,j] * model.x[i,j] ) for j in SHIPS for i in PORTS), sense=minimize)\n",
    "#all ports must be visited by at least one ship it's ok to leave a greater than\n",
    "def all_ports_visited(model, port_num):\n",
    "    return sum( [ model.x[port_num, ship] for ship in SHIPS ]  ) >= 1\n",
    "\n",
    "def each_ship_one_trip(model, ship):\n",
    "    return sum( [model.x[port, ship] for port in PORTS ]) == 1\n",
    "model.demand=Constraint(PORTS, rule=all_ports_visited)\n",
    "model.supply=Constraint(SHIPS, rule=each_ship_one_trip)\n",
    "\n",
    "\n",
    "# model.dual = Suffix(direction=Suffix.IMPORT)\n",
    "results = opt.solve(model)\n",
    "\n",
    "print(model.x.get_values())\n",
    "print(f\"total cost of transportation: {model.z.expr()}\")\n"
   ]
  },
  {
   "cell_type": "code",
   "execution_count": 6,
   "metadata": {
    "tags": []
   },
   "outputs": [
    {
     "output_type": "stream",
     "name": "stdout",
     "text": "{(1, 'S1'): 0.0, (1, 'S2'): 0.0, (1, 'S3'): 0.0, (1, 'S4'): 1.0, (2, 'S1'): 0.0, (2, 'S2'): 0.0, (2, 'S3'): 1.0, (2, 'S4'): 0.0, (3, 'S1'): 1.0, (3, 'S2'): 0.0, (3, 'S3'): 0.0, (3, 'S4'): 0.0, (4, 'S1'): 0.0, (4, 'S2'): 1.0, (4, 'S3'): 0.0, (4, 'S4'): 0.0}\ntotal cost of transportation: 2100.0\n"
    }
   ],
   "source": [
    "#now we change what we had before . . .. \n",
    "model = ConcreteModel()\n",
    "BIGNUM = 2**40\n",
    "\n",
    "PORTS = [1,2,3,4]# destinations\n",
    "SHIPS= ['S1', 'S2', 'S3', 'S4']\n",
    "\n",
    "w={ (1, 'S1'): 500, (1, 'S2'): 600, (1, 'S3'): 700, (1, 'S4'): 500, \n",
    "    (2, 'S1'): 400, (2, 'S2'): 600, (2, 'S3'): 500, (2, 'S4'): 400,\n",
    "    (3, 'S1'): 600, (3, 'S2'): 700, (3, 'S3'): 700, (3, 'S4'): 600, \n",
    "    (4, 'S1'): 700, (4, 'S2'): 500, (4, 'S3'): 600, (4, 'S4'): 600, \n",
    "}# constraint matrix\n",
    "# d = { 1:700, 2: 1000, 3: 900} #demand constraints\n",
    "\n",
    "# s = {'P1':400,'P2':600,'P3':400,'P4':600, 'P5':1000} # demand constraints\n",
    "\n",
    "# def supply_rule(model, j):\n",
    "#     return sum(model.x[i,j] for i in A) <= s[j]\n",
    "\n",
    "# def demand_rule(model, i):\n",
    "#     return sum(model.x[i,j] for j in R) == d[i]\n",
    "\n",
    "\n",
    "model.x = Var(PORTS,SHIPS, within=NonNegativeReals)\n",
    "\n",
    "model.z = Objective(expr=sum( (    w[i,j] * model.x[i,j] ) for j in SHIPS for i in PORTS), sense=minimize)\n",
    "#all ports must be visited by at least one ship\n",
    "def all_ports_visited(model, port_num):\n",
    "    return sum( [ model.x[port_num, ship] for ship in SHIPS ]  ) >= 1\n",
    "\n",
    "def each_ship_one_trip(model, ship):\n",
    "    return sum( [model.x[port, ship] for port in PORTS ]) == 1\n",
    "model.demand=Constraint(PORTS, rule=all_ports_visited)\n",
    "model.supply=Constraint(SHIPS, rule=each_ship_one_trip)\n",
    "\n",
    "\n",
    "# model.dual = Suffix(direction=Suffix.IMPORT)\n",
    "results = opt.solve(model)\n",
    "\n",
    "print(model.x.get_values())\n",
    "print(f\"total cost of transportation: {model.z.expr()}\")\n"
   ]
  },
  {
   "cell_type": "markdown",
   "metadata": {},
   "source": [
    "as we can see, nothing changes, this is because our rules still state that each ship must visit only 1 port, and all ports must be visited by at least one ship (in this case we can replace the greater than with an equals sign since the amount of ships equals the amount of ports . . . moreover, we would lose money if a ship visited more than one port, but this is just to show a proof of concept)"
   ]
  },
  {
   "cell_type": "markdown",
   "metadata": {},
   "source": []
  }
 ],
 "metadata": {
  "interpreter": {
   "hash": "546e0b44f367ee409afdc13e9f5f9fb79b2752164a208ed0c431b1cd3d5342b7"
  },
  "kernelspec": {
   "display_name": "Python 3.8.8 64-bit",
   "name": "python38864bit9f50342c4aab4683a2b3835d9324c9f3"
  },
  "language_info": {
   "codemirror_mode": {
    "name": "ipython",
    "version": 3
   },
   "file_extension": ".py",
   "mimetype": "text/x-python",
   "name": "python",
   "nbconvert_exporter": "python",
   "pygments_lexer": "ipython3",
   "version": "3.8.8-final"
  },
  "orig_nbformat": 4
 },
 "nbformat": 4,
 "nbformat_minor": 2
}