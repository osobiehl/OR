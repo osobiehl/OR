{
 "cells": [
  {
   "cell_type": "code",
   "execution_count": 5,
   "metadata": {
    "tags": []
   },
   "outputs": [
    {
     "output_type": "stream",
     "name": "stdout",
     "text": "model: {1: 3.33333333333333, 2: 3.33333333333333}\n"
    }
   ],
   "source": [
    "from pyomo.environ import *\n",
    "from pyomo.opt import *\n",
    "opt = solvers.SolverFactory(\"glpk\")\n",
    "\n",
    "model = ConcreteModel()\n",
    "\n",
    "model.x = Var([1,2], within=NonNegativeReals)\n",
    "\n",
    "model.c1 = Constraint(expr = 6* model.x[1] + 4* model.x[2] <= 40)\n",
    "model.c2 = Constraint(expr = 8*model.x[1] + 4* model.x[2] <= 40)\n",
    "model.c3 = Constraint(expr = 3*model.x[1] + 3*model.x[2] <= 20)\n",
    "model.z = Objective(expr = 300*model.x[1] + 200*model.x[2], sense=maximize)\n",
    "# add dual\n",
    "model.dual = Suffix(direction=Suffix.IMPORT)\n",
    "results = opt.solve(model)\n",
    "\n",
    "print(f\"model: {model.x.get_values()}\" )"
   ]
  },
  {
   "cell_type": "code",
   "execution_count": 6,
   "metadata": {
    "tags": []
   },
   "outputs": [
    {
     "output_type": "stream",
     "name": "stdout",
     "text": "model: c1, dual: 0.0\nmodel: c2, dual: 25.0\nmodel: c3, dual: 33.3333333333333\n"
    }
   ],
   "source": [
    "#now we can compute the dual values\n",
    "i =1\n",
    "for m in [model.c1, model.c2, model.c3]:\n",
    "    print(f\"model: c{i}, dual: {model.dual[m]}\")\n",
    "    i+=1\n"
   ]
  },
  {
   "cell_type": "markdown",
   "metadata": {},
   "source": [
    "Occasionally, someone stops by asking for help with restoring antique clocks. How\n",
    "much should David charge per hour for mechanical repairs and how much should\n",
    "LaDeana charge per hour for wood restoration assuming that they do not wish to\n",
    "add more working hours and also do not wish to reduce company profit if one of them\n",
    "is taking on a repair job?\n",
    "\n",
    "David does not need to charge anything per hour for mechanical repairs since he is not the bottleneck (obviously he should charge something), but company profit is not reduced if he takes a repair job as long as the amount of time taken for repair jobs is not too large\n",
    "\n",
    "LaDeana should charge at least $ 25.000 / hr"
   ]
  },
  {
   "cell_type": "markdown",
   "metadata": {},
   "source": [
    "Problem 2:"
   ]
  },
  {
   "cell_type": "code",
   "execution_count": 9,
   "metadata": {
    "tags": []
   },
   "outputs": [
    {
     "output_type": "stream",
     "name": "stdout",
     "text": "{(1, 'D1'): 0.0, (1, 'D2'): 0.0, (1, 'D3'): 2.0, (1, 'D4'): 10.0, (2, 'D1'): 0.0, (2, 'D2'): 9.0, (2, 'D3'): 8.0, (2, 'D4'): 0.0, (3, 'D1'): 10.0, (3, 'D2'): 1.0, (3, 'D3'): 0.0, (3, 'D4'): 0.0}\ntotal cost of transportation: 20200.0\n"
    }
   ],
   "source": [
    "#following Petrat\n",
    "\n",
    "model2 = ConcreteModel()\n",
    "\n",
    "A = [1,2,3]# destinations\n",
    "R = ['D1', 'D2', 'D3' , 'D4'] # distribution centers\n",
    "w={ (1, 'D1'): 800, (1, 'D2'): 1300, (1, 'D3'): 400, (1, 'D4'): 700,\n",
    "    (2, 'D1'): 1100,(2, 'D2'): 1400, (2, 'D3'): 600, (2, 'D4'): 1000,\n",
    "    (3, 'D1'): 600, (3, 'D2'): 1200, (3, 'D3'): 800, (3, 'D4'): 900\n",
    "}# constraint matrix\n",
    "s = { 1:12, 2: 17, 3: 11} #supply constraints\n",
    "d = {'D1':10,'D2':10,'D3':10,'D4':10} # demand constraints\n",
    "def supply_rule(model, i):\n",
    "    return sum(model.x[i,j] for j in R) == s[i]\n",
    "\n",
    "def demand_rule(model, j):\n",
    "    return sum(model.x[i,j] for i in A) == d[j]\n",
    "\n",
    "\n",
    "model2.x = Var(A,R, within=NonNegativeReals)\n",
    "# I don't think this expression correctly models what is meant by the objective fct, oh well\n",
    "# do you homogeneity for this to work?\n",
    "model2.z = Objective(expr=sum( (    100 + 0.50*w[i,j]) * model2.x[i,j] for j in R for i in A), sense=minimize)\n",
    "#set constraints\n",
    "model2.supply = Constraint(A, rule=supply_rule)\n",
    "model2.demand=Constraint(R, rule=demand_rule)\n",
    "\n",
    "\n",
    "\n",
    "model2.dual = Suffix(direction=Suffix.IMPORT)\n",
    "results = opt.solve(model2)\n",
    "\n",
    "print(model2.x.get_values())\n",
    "print(f\"total cost of transportation: {model2.z.expr()}\")\n"
   ]
  },
  {
   "cell_type": "markdown",
   "metadata": {},
   "source": [
    "Now suppose that demand in the area served by Center 1 goes up to 15 shipments\n",
    "per month. Production cannot be increased on short notice, so some or all of the\n",
    "distribution centers will be under-supplied. Modify your Pyomo code to determine\n",
    "the total number of shipments to arrive at each of the centers if the objective is still\n",
    "to minimize the overall cost of transportation."
   ]
  },
  {
   "cell_type": "code",
   "execution_count": 12,
   "metadata": {
    "tags": []
   },
   "outputs": [
    {
     "output_type": "stream",
     "name": "stdout",
     "text": "{(1, 'D1'): 0.0, (1, 'D2'): 0.0, (1, 'D3'): 2.0, (1, 'D4'): 10.0, (2, 'D1'): 0.0, (2, 'D2'): 9.0, (2, 'D3'): 8.0, (2, 'D4'): 0.0, (3, 'D1'): 10.0, (3, 'D2'): 1.0, (3, 'D3'): 0.0, (3, 'D4'): 0.0}\ntotal cost of transportation: 20200.0\n"
    }
   ],
   "source": [
    "#copy paste because I am lazy\n",
    "model3 = ConcreteModel()\n",
    "\n",
    "A = [1,2,3]# destinations\n",
    "R = ['D1', 'D2', 'D3' , 'D4'] # distribution centers\n",
    "w={ (1, 'D1'): 800, (1, 'D2'): 1300, (1, 'D3'): 400, (1, 'D4'): 700,\n",
    "    (2, 'D1'): 1100,(2, 'D2'): 1400, (2, 'D3'): 600, (2, 'D4'): 1000,\n",
    "    (3, 'D1'): 600, (3, 'D2'): 1200, (3, 'D3'): 800, (3, 'D4'): 900\n",
    "}# constraint matrix\n",
    "s = { 1:12, 2: 17, 3: 11} #supply constraints\n",
    "d = {'D1':15,'D2':10,'D3':10, 'D4':10} # demand constraints, modify first one\n",
    "def supply_rule_mod(model3, i):\n",
    "    #demand still has to be met\n",
    "    return sum(model3.x[i,j] for j in R) == s[i] # all supply must be completed\n",
    "\n",
    "def demand_rule_mod(model3, j):\n",
    "    #add a less than equal sign here b/c we can't fulfill all orders now\n",
    "    return sum(model3.x[i,j] for i in A) <= d[j]\n",
    "\n",
    "\n",
    "model3.x = Var(A,R, within=NonNegativeReals)\n",
    "\n",
    "model3.z = Objective(expr=sum( (100 + 0.50*w[i,j] )* model3.x[i,j] for j in R for i in A), sense=minimize)\n",
    "#set constraints\n",
    "model3.supply = Constraint(A, rule=supply_rule_mod)\n",
    "model3.demand=Constraint(R, rule=demand_rule_mod)\n",
    "\n",
    "\n",
    "\n",
    "model3.dual = Suffix(direction=Suffix.IMPORT)\n",
    "results = opt.solve(model3)\n",
    "\n",
    "print(model3.x.get_values())\n",
    "print(f\"total cost of transportation: {model3.z.expr()}\")\n"
   ]
  },
  {
   "cell_type": "markdown",
   "metadata": {},
   "source": [
    "fixed ? "
   ]
  }
 ],
 "metadata": {
  "interpreter": {
   "hash": "546e0b44f367ee409afdc13e9f5f9fb79b2752164a208ed0c431b1cd3d5342b7"
  },
  "kernelspec": {
   "display_name": "Python 3.8.8 64-bit",
   "name": "python38864bit9f50342c4aab4683a2b3835d9324c9f3"
  },
  "language_info": {
   "codemirror_mode": {
    "name": "ipython",
    "version": 3
   },
   "file_extension": ".py",
   "mimetype": "text/x-python",
   "name": "python",
   "nbconvert_exporter": "python",
   "pygments_lexer": "ipython3",
   "version": "3.8.8-final"
  },
  "orig_nbformat": 4
 },
 "nbformat": 4,
 "nbformat_minor": 2
}