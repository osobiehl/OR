{
 "metadata": {
  "language_info": {
   "codemirror_mode": {
    "name": "ipython",
    "version": 3
   },
   "file_extension": ".py",
   "mimetype": "text/x-python",
   "name": "python",
   "nbconvert_exporter": "python",
   "pygments_lexer": "ipython3",
   "version": "3.8.8-final"
  },
  "orig_nbformat": 2,
  "kernelspec": {
   "name": "python38864bit9f50342c4aab4683a2b3835d9324c9f3",
   "display_name": "Python 3.8.8 64-bit"
  }
 },
 "nbformat": 4,
 "nbformat_minor": 2,
 "cells": [
  {
   "cell_type": "code",
   "execution_count": 113,
   "metadata": {
    "tags": []
   },
   "outputs": [
    {
     "output_type": "stream",
     "name": "stdout",
     "text": "{('O', 'A'): 4.0, ('O', 'B'): 7.0, ('O', 'C'): 3.0, ('A', 'D'): 3.0, ('A', 'B'): 1.0, ('C', 'E'): 3.0, ('B', 'D'): 4.0, ('B', 'E'): 4.0, ('B', 'C'): 0.0, ('E', 'D'): 1.0, ('E', 'T'): 6.0, ('D', 'T'): 8.0}\n\nMaximum flow: 14.0\n"
    }
   ],
   "source": [
    "#Max flow problem\n",
    "from pyomo.environ import *\n",
    "from pyomo.opt import *\n",
    "opt = solvers.SolverFactory(\"glpk\")\n",
    "\n",
    "model = ConcreteModel()\n",
    "# BIGNUM = 2**40\n",
    "\n",
    "\n",
    "\n",
    "w = {\n",
    "    'O': {'A': 5, 'B': 7, 'C': 4},\n",
    "    'A': {'D': 3, 'B': 1},\n",
    "    'C': {'E': 4},\n",
    "    'B': {'D': 4, 'E': 5, 'C': 2},\n",
    "    'E': {'D':1, 'T': 6},\n",
    "    'D': {'T': 9}\n",
    "}\n",
    "#transform from matrix to pairs so it's easier to work with\n",
    "W = {(k, i):w[k][i] for k in w for i in w[k] }\n",
    "# print(W)\n",
    "\n",
    "A = list(W.keys())\n",
    "\n",
    "flow_excluded = ['O', 'T']\n",
    "    \n",
    "\n",
    "#decision variable: how much we should pass from node i to node j\n",
    "model.x = Var(A,within=NonNegativeReals)\n",
    "# maximize the total we can send to the destination \n",
    "model.z = Objective(expr=sum( (  model.x[i,j] ) for (i,j) in A if j == 'T'), sense=maximize)\n",
    "#we can't pass more than the max weight\n",
    "def flow_rule(model, i, j):\n",
    "    return model.x[i,j] <= W[i,j]\n",
    "model.flow = Constraint(A, rule=flow_rule )\n",
    "\n",
    "def sum_rule(model, n):\n",
    "    inflow = sum(model.x[i,j] for (i,j) in A if i == n)\n",
    "    outflow = sum(model.x[i,j] for (i,j) in A if j == n)\n",
    "    if n not in flow_excluded:\n",
    "        return inflow == outflow\n",
    "    else: return Constraint.Skip\n",
    "model.sum = Constraint(w.keys(), rule=sum_rule)\n",
    "#maximum amount that can be transported to any given node, k\n",
    "\n",
    "\n",
    "\n",
    "\n",
    "\n",
    "model.dual = Suffix(direction=Suffix.IMPORT)\n",
    "\n",
    "results = opt.solve(model)\n",
    "\n",
    "# assert_optimal_termination(results)\n",
    "print(model.x.get_values())\n",
    "print()\n",
    "print(f\"Maximum flow: {model.z.expr()}\")\n"
   ]
  },
  {
   "cell_type": "code",
   "execution_count": 126,
   "metadata": {
    "tags": []
   },
   "outputs": [
    {
     "output_type": "stream",
     "name": "stdout",
     "text": "dual : Direction=Suffix.IMPORT, Datatype=Suffix.FLOAT\n    Key       : Value\n    flow[A,B] :  -0.0\n    flow[A,D] :   1.0\n    flow[B,C] :   0.0\n    flow[B,D] :   1.0\n    flow[B,E] :   0.0\n    flow[C,E] :   0.0\n    flow[D,T] :   0.0\n    flow[E,D] :   1.0\n    flow[E,T] :   1.0\n    flow[O,A] :   0.0\n    flow[O,B] :  -0.0\n    flow[O,C] :   0.0\n       sum[A] :  -0.0\n       sum[B] :  -0.0\n       sum[C] :  -0.0\n       sum[D] :   1.0\n       sum[E] :  -0.0\n"
    }
   ],
   "source": [
    "\n",
    "model.dual.display()\n"
   ]
  },
  {
   "cell_type": "code",
   "execution_count": null,
   "metadata": {},
   "outputs": [],
   "source": [
    "## the dual variable we are looking for are the ones labeled flow"
   ]
  },
  {
   "cell_type": "code",
   "execution_count": 127,
   "metadata": {},
   "outputs": [
    {
     "output_type": "error",
     "ename": "SyntaxError",
     "evalue": "invalid syntax (4027056496.py, line 1)",
     "traceback": [
      "\u001b[0;36m  File \u001b[0;32m\"/var/folders/vr/r4h3rsg50pxbmygrrhdtxzn00000gn/T/ipykernel_76171/4027056496.py\"\u001b[0;36m, line \u001b[0;32m1\u001b[0m\n\u001b[0;31m    (HL, Problem 9.4-3.) The Premiere Bank soon will be hooking up computer terminals at\u001b[0m\n\u001b[0m                 ^\u001b[0m\n\u001b[0;31mSyntaxError\u001b[0m\u001b[0;31m:\u001b[0m invalid syntax\n"
     ]
    }
   ],
   "source": [
    "# (HL, Problem 9.4-3.) The Premiere Bank soon will be hooking up computer terminals at\n",
    "# each of its branch offices to the computer at its main office using special phone lines with\n",
    "# telecommunications devices. The phone line from a branch office need not be connected\n",
    "# directly to the main office. It can be connected indirectly by being connected to another\n",
    "# branch office that is connected (directly or indirectly) to the main office. The only\n",
    "# requirement is that every branch office be connected by some route to the main office.\n",
    "# The charge for the special phone lines is 100 $ times the number of miles involved, where\n",
    "# the distance (in miles) between every pair of offices is as follows:"
   ]
  },
  {
   "cell_type": "code",
   "execution_count": 128,
   "metadata": {},
   "outputs": [],
   "source": [
    "#(a) Describe how this problem fits the network description of the minimum spanning tree\n",
    "#problem\n",
    "'''This problem fits the description of MST since we branch offices can be connected indirectly by being connected to the other office, this means that the optimal structure we want to build is acyclical, it also means that we only need to connect all vertices in our graph with the minimum possible sum of edge weights'''"
   ]
  },
  {
   "cell_type": "code",
   "execution_count": null,
   "metadata": {},
   "outputs": [],
   "source": [
    "model2 = ConcreteModel()\n",
    "A = ['M','B1', 'B2', 'B3', 'B4', 'B5']\n",
    "E = {('M', 'B1'): 190, ('M', 'B2'): 70, ('M', 'B3'): 115, ('M', 'B4'): 270, ('M', 'B5'): 160,\n",
    "     ('B1', 'B2'): 100, ('B1', 'B3'): 110, ('B1', 'B4'): 215, ('B1', 'B5'): 50,\n",
    "     ('B2', 'B3'): 140, ('B2', 'B4'): 120, ('B2', 'B5'):220,\n",
    "     ('B3', 'B4'): 175, ('B3', 'B5'): 80, \n",
    "     ('B4', 'B5'): 310 }\n",
    "for (i,j) in E:\n",
    "    E[j,i] = E[i,j]\n",
    "\n",
    "\n",
    "model.x = Var(A,within=NonNegativeReals)\n",
    "# maximize the total we can send to the destination \n",
    "model.z = Objective(expr=sum( (  model.x[i,j]*E[i,j] ) for (i,j) in E), sense=minimize)\n",
    "# spanning tree can only have n-1 edges\n",
    "model.min_edges = Constraint(expr= sum(x[i,j] for (i,j) in E) == len(A) -1 ) \n"
   ]
  }
 ]
}